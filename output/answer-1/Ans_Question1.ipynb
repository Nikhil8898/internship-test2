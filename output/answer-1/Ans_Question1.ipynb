{
 "cells": [
  {
   "cell_type": "markdown",
   "id": "d3c4d375",
   "metadata": {},
   "source": [
    "# Question 1"
   ]
  },
  {
   "cell_type": "raw",
   "id": "7a92e70d",
   "metadata": {},
   "source": [
    "Name: Nikhil Kankaria\n",
    "SAP ID: 70611019016\n",
    "College: MPSTME"
   ]
  },
  {
   "cell_type": "code",
   "execution_count": 4,
   "id": "dab6f886",
   "metadata": {},
   "outputs": [
    {
     "name": "stdout",
     "output_type": "stream",
     "text": [
      "       Year  Population      Total   Violent   Property  Murder  \\\n",
      "Year                                                              \n",
      "1960  19645  1915053175   49295900   4134930   45160900  106180   \n",
      "1970  19745  2121193298  100991600   9607930   91383800  192230   \n",
      "1980  19845  2371370069  131123369  14074328  117048900  206439   \n",
      "1990  19945  2612825258  136582146  17527048  119053499  211664   \n",
      "2000  20045  2947969117  115012044  13968056  100944369  163068   \n",
      "2010  10060  1570146307   50167967   6072017   44095950   72867   \n",
      "\n",
      "      Forcible_Rape  Robbery  Aggravated_assault  Burglary  Larceny_Theft  \\\n",
      "Year                                                                        \n",
      "1960         236720  1633510             2158520  13321100       26547700   \n",
      "1970         554570  4159020             4702120  28486000       53157800   \n",
      "1980         865639  5383109             7619130  33073494       72040253   \n",
      "1990         998827  5748930            10568963  26750015       77679366   \n",
      "2000         922499  4230366             8652124  21565176       67970291   \n",
      "2010         421059  1749809             3764142  10125170       30401698   \n",
      "\n",
      "      Vehicle_Theft  \n",
      "Year                 \n",
      "1960        5292100  \n",
      "1970        9739900  \n",
      "1980       11935411  \n",
      "1990       14624418  \n",
      "2000       11412834  \n",
      "2010        3569080  \n"
     ]
    }
   ],
   "source": [
    "import pandas as pd\n",
    "\n",
    "df=pd.read_csv(r\"D:/nikhil/Bungee/Question 1/Question 1.csv\")\n",
    "result = df.groupby((df.Year//10)*10).sum()\n",
    "result.to_csv('D:/nikhil/Bungee/Question 1/main.csv')\n",
    "print(result)"
   ]
  },
  {
   "cell_type": "code",
   "execution_count": null,
   "id": "d62b7ca5",
   "metadata": {},
   "outputs": [],
   "source": []
  }
 ],
 "metadata": {
  "kernelspec": {
   "display_name": "Python 3",
   "language": "python",
   "name": "python3"
  },
  "language_info": {
   "codemirror_mode": {
    "name": "ipython",
    "version": 3
   },
   "file_extension": ".py",
   "mimetype": "text/x-python",
   "name": "python",
   "nbconvert_exporter": "python",
   "pygments_lexer": "ipython3",
   "version": "3.9.5"
  }
 },
 "nbformat": 4,
 "nbformat_minor": 5
}
