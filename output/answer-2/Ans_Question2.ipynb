{
 "cells": [
  {
   "cell_type": "markdown",
   "id": "d14b258f",
   "metadata": {},
   "source": [
    "# Question 2"
   ]
  },
  {
   "cell_type": "raw",
   "id": "85f8ba04",
   "metadata": {},
   "source": [
    "Name: Nikhil Kankaria\n",
    "SAP ID: 70611019016\n",
    "College: MPSTME"
   ]
  },
  {
   "cell_type": "code",
   "execution_count": 10,
   "id": "63b053b4",
   "metadata": {},
   "outputs": [
    {
     "name": "stdout",
     "output_type": "stream",
     "text": [
      "              age    \n",
      "              min max\n",
      "occupation           \n",
      "administrator  21  70\n",
      "artist         19  48\n",
      "doctor         28  64\n",
      "educator       23  63\n",
      "engineer       22  70\n",
      "entertainment  15  50\n",
      "executive      22  69\n",
      "healthcare     22  62\n",
      "homemaker      20  50\n",
      "lawyer         21  53\n",
      "librarian      23  69\n",
      "marketing      24  55\n",
      "none           11  55\n",
      "other          13  64\n",
      "programmer     20  63\n",
      "retired        51  73\n",
      "salesman       18  66\n",
      "scientist      23  55\n",
      "student         7  42\n",
      "technician     21  55\n",
      "writer         18  60\n"
     ]
    }
   ],
   "source": [
    "import pandas as pd\n",
    "\n",
    "df=pd.read_csv(r\"D:/nikhil/Bungee/Question 2/Question 2.csv\")\n",
    "\n",
    "result = df.groupby('occupation').agg({'age': ['min', 'max']})\n",
    "result.to_csv('D:/nikhil/Bungee/Question 2/main.csv')\n",
    "print(result)\n"
   ]
  },
  {
   "cell_type": "code",
   "execution_count": null,
   "id": "7ae25693",
   "metadata": {},
   "outputs": [],
   "source": []
  }
 ],
 "metadata": {
  "kernelspec": {
   "display_name": "Python 3",
   "language": "python",
   "name": "python3"
  },
  "language_info": {
   "codemirror_mode": {
    "name": "ipython",
    "version": 3
   },
   "file_extension": ".py",
   "mimetype": "text/x-python",
   "name": "python",
   "nbconvert_exporter": "python",
   "pygments_lexer": "ipython3",
   "version": "3.9.5"
  }
 },
 "nbformat": 4,
 "nbformat_minor": 5
}
