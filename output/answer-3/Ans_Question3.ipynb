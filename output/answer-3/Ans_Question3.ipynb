{
 "cells": [
  {
   "cell_type": "markdown",
   "id": "1f77fda8",
   "metadata": {},
   "source": [
    "# Question 3"
   ]
  },
  {
   "cell_type": "raw",
   "id": "6409cb94",
   "metadata": {},
   "source": [
    "Name: Nikhil Kankaria\n",
    "SAP ID: 70611019016\n",
    "College: MPSTME"
   ]
  },
  {
   "cell_type": "code",
   "execution_count": 17,
   "id": "c826207b",
   "metadata": {},
   "outputs": [
    {
     "name": "stdout",
     "output_type": "stream",
     "text": [
      "                   Team  Yellow Cards  Red Cards\n",
      "6                Greece             9          1\n",
      "9                Poland             7          1\n",
      "11  Republic of Ireland             6          1\n",
      "7                 Italy            16          0\n",
      "10             Portugal            12          0\n",
      "13                Spain            11          0\n",
      "0               Croatia             9          0\n",
      "1        Czech Republic             7          0\n",
      "14               Sweden             7          0\n",
      "4                France             6          0\n",
      "12               Russia             6          0\n",
      "3               England             5          0\n",
      "8           Netherlands             5          0\n",
      "15              Ukraine             5          0\n",
      "2               Denmark             4          0\n",
      "5               Germany             4          0\n"
     ]
    }
   ],
   "source": [
    "import pandas as pd\n",
    "\n",
    "df=pd.read_csv(r\"D:/nikhil/Bungee/Question 3/Question 3.csv\")\n",
    "df=df[[\"Team\", \"Yellow Cards\", \"Red Cards\"]]\n",
    "result = df.sort_values(by=['Red Cards', 'Yellow Cards'],ascending=[False, False])\n",
    "\n",
    "result.to_csv('D:/nikhil/Bungee/Question 3/main.csv')\n",
    "print(result)\n"
   ]
  },
  {
   "cell_type": "code",
   "execution_count": null,
   "id": "ba041853",
   "metadata": {},
   "outputs": [],
   "source": []
  }
 ],
 "metadata": {
  "kernelspec": {
   "display_name": "Python 3",
   "language": "python",
   "name": "python3"
  },
  "language_info": {
   "codemirror_mode": {
    "name": "ipython",
    "version": 3
   },
   "file_extension": ".py",
   "mimetype": "text/x-python",
   "name": "python",
   "nbconvert_exporter": "python",
   "pygments_lexer": "ipython3",
   "version": "3.9.5"
  }
 },
 "nbformat": 4,
 "nbformat_minor": 5
}
